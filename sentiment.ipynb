{
 "cells": [
  {
   "cell_type": "code",
   "execution_count": 1,
   "metadata": {},
   "outputs": [],
   "source": [
    "import pandas as pd\n",
    "import matplotlib.pyplot as plt\n",
    "import seaborn as sns\n",
    "from warnings import filterwarnings\n",
    "from sklearn.linear_model import LogisticRegression\n",
    "from sklearn.model_selection import cross_val_score, cross_validate\n",
    "from sklearn.preprocessing import LabelEncoder\n",
    "from sklearn.feature_extraction.text import TfidfVectorizer\n",
    "pd.set_option(\"display.max_columns\", None)\n",
    "pd.set_option(\"display.width\", 500)"
   ]
  },
  {
   "cell_type": "markdown",
   "metadata": {},
   "source": [
    "*Feature Engineering for labeled data*"
   ]
  },
  {
   "cell_type": "code",
   "execution_count": 2,
   "metadata": {},
   "outputs": [
    {
     "data": {
      "text/html": [
       "<div>\n",
       "<style scoped>\n",
       "    .dataframe tbody tr th:only-of-type {\n",
       "        vertical-align: middle;\n",
       "    }\n",
       "\n",
       "    .dataframe tbody tr th {\n",
       "        vertical-align: top;\n",
       "    }\n",
       "\n",
       "    .dataframe thead th {\n",
       "        text-align: right;\n",
       "    }\n",
       "</style>\n",
       "<table border=\"1\" class=\"dataframe\">\n",
       "  <thead>\n",
       "    <tr style=\"text-align: right;\">\n",
       "      <th></th>\n",
       "      <th>tweet_id</th>\n",
       "      <th>tweet</th>\n",
       "      <th>date</th>\n",
       "      <th>label</th>\n",
       "    </tr>\n",
       "  </thead>\n",
       "  <tbody>\n",
       "    <tr>\n",
       "      <th>0</th>\n",
       "      <td>1606767075984375808</td>\n",
       "      <td>Berk Ali (kedim) seni çok özledim. Ölmek için ...</td>\n",
       "      <td>2022-12-24 21:41:37+00:00</td>\n",
       "      <td>1</td>\n",
       "    </tr>\n",
       "    <tr>\n",
       "      <th>1</th>\n",
       "      <td>1537178207677448193</td>\n",
       "      <td>Yani, öylesine ciddiye alacaksın ki yaşamayı, ...</td>\n",
       "      <td>2022-06-15 21:00:18+00:00</td>\n",
       "      <td>1</td>\n",
       "    </tr>\n",
       "    <tr>\n",
       "      <th>2</th>\n",
       "      <td>1536458790802972673</td>\n",
       "      <td>saçlarının gölgesinde\\nölmek ne güzeldi</td>\n",
       "      <td>2022-06-13 21:21:36+00:00</td>\n",
       "      <td>1</td>\n",
       "    </tr>\n",
       "    <tr>\n",
       "      <th>3</th>\n",
       "      <td>1495413883166760960</td>\n",
       "      <td>Öyle güzel baktın ki, gözlerime\\nsevmek değil ...</td>\n",
       "      <td>2022-02-20 15:03:47+00:00</td>\n",
       "      <td>1</td>\n",
       "    </tr>\n",
       "    <tr>\n",
       "      <th>4</th>\n",
       "      <td>1490420667614904334</td>\n",
       "      <td>sevmek biri için ölmek değil her şeye rağmen y...</td>\n",
       "      <td>2022-02-06 20:22:32+00:00</td>\n",
       "      <td>1</td>\n",
       "    </tr>\n",
       "  </tbody>\n",
       "</table>\n",
       "</div>"
      ],
      "text/plain": [
       "              tweet_id                                              tweet                       date  label\n",
       "0  1606767075984375808  Berk Ali (kedim) seni çok özledim. Ölmek için ...  2022-12-24 21:41:37+00:00      1\n",
       "1  1537178207677448193  Yani, öylesine ciddiye alacaksın ki yaşamayı, ...  2022-06-15 21:00:18+00:00      1\n",
       "2  1536458790802972673            saçlarının gölgesinde\\nölmek ne güzeldi  2022-06-13 21:21:36+00:00      1\n",
       "3  1495413883166760960  Öyle güzel baktın ki, gözlerime\\nsevmek değil ...  2022-02-20 15:03:47+00:00      1\n",
       "4  1490420667614904334  sevmek biri için ölmek değil her şeye rağmen y...  2022-02-06 20:22:32+00:00      1"
      ]
     },
     "execution_count": 2,
     "metadata": {},
     "output_type": "execute_result"
    }
   ],
   "source": [
    "df = pd.read_csv(\"tweets_labeled.csv\")\n",
    "df.head()"
   ]
  },
  {
   "cell_type": "code",
   "execution_count": 3,
   "metadata": {},
   "outputs": [
    {
     "name": "stdout",
     "output_type": "stream",
     "text": [
      "<class 'pandas.core.frame.DataFrame'>\n",
      "RangeIndex: 12960 entries, 0 to 12959\n",
      "Data columns (total 4 columns):\n",
      " #   Column    Non-Null Count  Dtype \n",
      "---  ------    --------------  ----- \n",
      " 0   tweet_id  12960 non-null  int64 \n",
      " 1   tweet     12959 non-null  object\n",
      " 2   date      12960 non-null  object\n",
      " 3   label     12960 non-null  int64 \n",
      "dtypes: int64(2), object(2)\n",
      "memory usage: 405.1+ KB\n"
     ]
    }
   ],
   "source": [
    "df.info()"
   ]
  },
  {
   "cell_type": "code",
   "execution_count": 4,
   "metadata": {},
   "outputs": [
    {
     "data": {
      "text/plain": [
       "tweet_id    0\n",
       "tweet       1\n",
       "date        0\n",
       "label       0\n",
       "dtype: int64"
      ]
     },
     "execution_count": 4,
     "metadata": {},
     "output_type": "execute_result"
    }
   ],
   "source": [
    "# Check if there is any missing value.\n",
    "df.isnull().sum()"
   ]
  },
  {
   "cell_type": "code",
   "execution_count": 5,
   "metadata": {},
   "outputs": [],
   "source": [
    "# Remove the row if any column containing Null value and reassign to df.\n",
    "df = df.dropna()"
   ]
  },
  {
   "cell_type": "code",
   "execution_count": 6,
   "metadata": {},
   "outputs": [],
   "source": [
    "# Change timezone of the \"date\" to İstanbul. (GMT+03:00)\n",
    "df[\"date\"] = pd.to_datetime(df[\"date\"])\n",
    "df[\"date\"] = df[\"date\"].dt.tz_convert(\"Europe/Istanbul\")\n",
    "df[\"date\"] = df[\"date\"].dt.tz_localize(None)"
   ]
  },
  {
   "cell_type": "code",
   "execution_count": 7,
   "metadata": {},
   "outputs": [
    {
     "data": {
      "text/plain": [
       "0       2022-12-25 00:41:37\n",
       "1       2022-06-16 00:00:18\n",
       "2       2022-06-14 00:21:36\n",
       "3       2022-02-20 18:03:47\n",
       "4       2022-02-06 23:22:32\n",
       "                ...        \n",
       "12955   2022-03-15 18:09:09\n",
       "12956   2022-12-29 21:34:09\n",
       "12957   2022-03-14 00:55:30\n",
       "12958   2022-09-15 02:31:51\n",
       "12959   2022-06-17 02:27:11\n",
       "Name: date, Length: 12959, dtype: datetime64[ns]"
      ]
     },
     "execution_count": 7,
     "metadata": {},
     "output_type": "execute_result"
    }
   ],
   "source": [
    "df[\"date\"]"
   ]
  },
  {
   "cell_type": "code",
   "execution_count": 8,
   "metadata": {},
   "outputs": [],
   "source": [
    "# Create \"month\" variable and edit.\n",
    "df[\"month\"] = df[\"date\"].dt.month_name()\n",
    "df['tweet'] = df['tweet'].str.lower()\n",
    "df[\"month\"] = df[\"month\"].replace({\"January\": \"Ocak\",\n",
    "                                   \"February\": \"Şubat\",\n",
    "                                   \"March\": \"Mart\",\n",
    "                                   \"April\": \"Nisan\",\n",
    "                                   \"May\": \"Mayıs\",\n",
    "                                   \"June\": \"Haziran\",                               \n",
    "                                   \"July\": \"Temmuz\",\n",
    "                                   \"August\": \"Ağustos\",\n",
    "                                   \"September\": \"Eylül\",\n",
    "                                   \"October\": \"Ekim\",\n",
    "                                   \"November\": \"Kasım\",\n",
    "                                   \"December\": \"Aralık\"})"
   ]
  },
  {
   "cell_type": "code",
   "execution_count": 9,
   "metadata": {},
   "outputs": [],
   "source": [
    "# Create a variable to hold seasons for months.\n",
    "seasons = {\"Ocak\": \"Kış\",\n",
    "           \"Şubat\": \"Kış\",\n",
    "           \"Mart\": \"İlkbahar\",\n",
    "           \"Nisan\": \"İlkbahar\",\n",
    "           \"Mayıs\": \"İlkbahar\",\n",
    "           \"Haziran\": \"Yaz\",\n",
    "           \"Temmuz\": \"Yaz\",\n",
    "           \"Ağustos\": \"Yaz\",\n",
    "           \"Eylül\": \"Sonbahar\",\n",
    "           \"Ekim\": \"Sonbahar\",\n",
    "           \"Kasım\": \"Sonbahar\",\n",
    "           \"Aralık\": \"Kış\"}  \n",
    "\n",
    "df[\"seasons\"] = df[\"month\"].map(seasons)"
   ]
  },
  {
   "cell_type": "code",
   "execution_count": 10,
   "metadata": {},
   "outputs": [
    {
     "data": {
      "text/html": [
       "<div>\n",
       "<style scoped>\n",
       "    .dataframe tbody tr th:only-of-type {\n",
       "        vertical-align: middle;\n",
       "    }\n",
       "\n",
       "    .dataframe tbody tr th {\n",
       "        vertical-align: top;\n",
       "    }\n",
       "\n",
       "    .dataframe thead th {\n",
       "        text-align: right;\n",
       "    }\n",
       "</style>\n",
       "<table border=\"1\" class=\"dataframe\">\n",
       "  <thead>\n",
       "    <tr style=\"text-align: right;\">\n",
       "      <th></th>\n",
       "      <th>tweet_id</th>\n",
       "      <th>tweet</th>\n",
       "      <th>date</th>\n",
       "      <th>label</th>\n",
       "      <th>month</th>\n",
       "      <th>seasons</th>\n",
       "      <th>days</th>\n",
       "    </tr>\n",
       "  </thead>\n",
       "  <tbody>\n",
       "    <tr>\n",
       "      <th>0</th>\n",
       "      <td>1606767075984375808</td>\n",
       "      <td>berk ali (kedim) seni çok özledim. ölmek için ...</td>\n",
       "      <td>2022-12-25 00:41:37</td>\n",
       "      <td>1</td>\n",
       "      <td>Aralık</td>\n",
       "      <td>Kış</td>\n",
       "      <td>Pazar</td>\n",
       "    </tr>\n",
       "    <tr>\n",
       "      <th>1</th>\n",
       "      <td>1537178207677448193</td>\n",
       "      <td>yani, öylesine ciddiye alacaksın ki yaşamayı, ...</td>\n",
       "      <td>2022-06-16 00:00:18</td>\n",
       "      <td>1</td>\n",
       "      <td>Haziran</td>\n",
       "      <td>Yaz</td>\n",
       "      <td>Perşembe</td>\n",
       "    </tr>\n",
       "    <tr>\n",
       "      <th>2</th>\n",
       "      <td>1536458790802972673</td>\n",
       "      <td>saçlarının gölgesinde\\nölmek ne güzeldi</td>\n",
       "      <td>2022-06-14 00:21:36</td>\n",
       "      <td>1</td>\n",
       "      <td>Haziran</td>\n",
       "      <td>Yaz</td>\n",
       "      <td>Salı</td>\n",
       "    </tr>\n",
       "    <tr>\n",
       "      <th>3</th>\n",
       "      <td>1495413883166760960</td>\n",
       "      <td>öyle güzel baktın ki, gözlerime\\nsevmek değil ...</td>\n",
       "      <td>2022-02-20 18:03:47</td>\n",
       "      <td>1</td>\n",
       "      <td>Şubat</td>\n",
       "      <td>Kış</td>\n",
       "      <td>Pazar</td>\n",
       "    </tr>\n",
       "    <tr>\n",
       "      <th>4</th>\n",
       "      <td>1490420667614904334</td>\n",
       "      <td>sevmek biri için ölmek değil her şeye rağmen y...</td>\n",
       "      <td>2022-02-06 23:22:32</td>\n",
       "      <td>1</td>\n",
       "      <td>Şubat</td>\n",
       "      <td>Kış</td>\n",
       "      <td>Pazar</td>\n",
       "    </tr>\n",
       "  </tbody>\n",
       "</table>\n",
       "</div>"
      ],
      "text/plain": [
       "              tweet_id                                              tweet                date  label    month seasons      days\n",
       "0  1606767075984375808  berk ali (kedim) seni çok özledim. ölmek için ... 2022-12-25 00:41:37      1   Aralık     Kış     Pazar\n",
       "1  1537178207677448193  yani, öylesine ciddiye alacaksın ki yaşamayı, ... 2022-06-16 00:00:18      1  Haziran     Yaz  Perşembe\n",
       "2  1536458790802972673            saçlarının gölgesinde\\nölmek ne güzeldi 2022-06-14 00:21:36      1  Haziran     Yaz      Salı\n",
       "3  1495413883166760960  öyle güzel baktın ki, gözlerime\\nsevmek değil ... 2022-02-20 18:03:47      1    Şubat     Kış     Pazar\n",
       "4  1490420667614904334  sevmek biri için ölmek değil her şeye rağmen y... 2022-02-06 23:22:32      1    Şubat     Kış     Pazar"
      ]
     },
     "execution_count": 10,
     "metadata": {},
     "output_type": "execute_result"
    }
   ],
   "source": [
    "# Create \"days\" variable and edit it.\n",
    "# df[\"days\"] = df[\"date\"].dt.day_name()\n",
    "df[\"days\"] = [date.strftime('%A') for date in df[\"date\"]]\n",
    "df[\"days\"] = df[\"days\"].replace({\"Monday\": \"Pazartesi\",\n",
    "                                 \"Tuesday\": \"Salı\",\n",
    "                                 \"Wednesay\": \"Çarşamba\",\n",
    "                                 \"Thursday\": \"Perşembe\",\n",
    "                                 \"Friday\": \"Cuma\",\n",
    "                                 \"Saturday\": \"Cumartesi\",\n",
    "                                 \"Sunday\": \"Pazar\"})\n",
    "df.head()"
   ]
  },
  {
   "cell_type": "code",
   "execution_count": 11,
   "metadata": {},
   "outputs": [
    {
     "data": {
      "text/html": [
       "<div>\n",
       "<style scoped>\n",
       "    .dataframe tbody tr th:only-of-type {\n",
       "        vertical-align: middle;\n",
       "    }\n",
       "\n",
       "    .dataframe tbody tr th {\n",
       "        vertical-align: top;\n",
       "    }\n",
       "\n",
       "    .dataframe thead th {\n",
       "        text-align: right;\n",
       "    }\n",
       "</style>\n",
       "<table border=\"1\" class=\"dataframe\">\n",
       "  <thead>\n",
       "    <tr style=\"text-align: right;\">\n",
       "      <th></th>\n",
       "      <th>tweet_id</th>\n",
       "      <th>tweet</th>\n",
       "      <th>date</th>\n",
       "      <th>label</th>\n",
       "      <th>month</th>\n",
       "      <th>seasons</th>\n",
       "      <th>days</th>\n",
       "      <th>time_interval</th>\n",
       "    </tr>\n",
       "  </thead>\n",
       "  <tbody>\n",
       "    <tr>\n",
       "      <th>0</th>\n",
       "      <td>1606767075984375808</td>\n",
       "      <td>berk ali (kedim) seni çok özledim. ölmek için ...</td>\n",
       "      <td>2022-12-25 00:41:37</td>\n",
       "      <td>1</td>\n",
       "      <td>Aralık</td>\n",
       "      <td>Kış</td>\n",
       "      <td>Pazar</td>\n",
       "      <td>22-02</td>\n",
       "    </tr>\n",
       "    <tr>\n",
       "      <th>1</th>\n",
       "      <td>1537178207677448193</td>\n",
       "      <td>yani, öylesine ciddiye alacaksın ki yaşamayı, ...</td>\n",
       "      <td>2022-06-16 00:00:18</td>\n",
       "      <td>1</td>\n",
       "      <td>Haziran</td>\n",
       "      <td>Yaz</td>\n",
       "      <td>Perşembe</td>\n",
       "      <td>22-02</td>\n",
       "    </tr>\n",
       "    <tr>\n",
       "      <th>2</th>\n",
       "      <td>1536458790802972673</td>\n",
       "      <td>saçlarının gölgesinde\\nölmek ne güzeldi</td>\n",
       "      <td>2022-06-14 00:21:36</td>\n",
       "      <td>1</td>\n",
       "      <td>Haziran</td>\n",
       "      <td>Yaz</td>\n",
       "      <td>Salı</td>\n",
       "      <td>22-02</td>\n",
       "    </tr>\n",
       "    <tr>\n",
       "      <th>3</th>\n",
       "      <td>1495413883166760960</td>\n",
       "      <td>öyle güzel baktın ki, gözlerime\\nsevmek değil ...</td>\n",
       "      <td>2022-02-20 18:03:47</td>\n",
       "      <td>1</td>\n",
       "      <td>Şubat</td>\n",
       "      <td>Kış</td>\n",
       "      <td>Pazar</td>\n",
       "      <td>18-22</td>\n",
       "    </tr>\n",
       "    <tr>\n",
       "      <th>4</th>\n",
       "      <td>1490420667614904334</td>\n",
       "      <td>sevmek biri için ölmek değil her şeye rağmen y...</td>\n",
       "      <td>2022-02-06 23:22:32</td>\n",
       "      <td>1</td>\n",
       "      <td>Şubat</td>\n",
       "      <td>Kış</td>\n",
       "      <td>Pazar</td>\n",
       "      <td>22-02</td>\n",
       "    </tr>\n",
       "  </tbody>\n",
       "</table>\n",
       "</div>"
      ],
      "text/plain": [
       "              tweet_id                                              tweet                date  label    month seasons      days time_interval\n",
       "0  1606767075984375808  berk ali (kedim) seni çok özledim. ölmek için ... 2022-12-25 00:41:37      1   Aralık     Kış     Pazar         22-02\n",
       "1  1537178207677448193  yani, öylesine ciddiye alacaksın ki yaşamayı, ... 2022-06-16 00:00:18      1  Haziran     Yaz  Perşembe         22-02\n",
       "2  1536458790802972673            saçlarının gölgesinde\\nölmek ne güzeldi 2022-06-14 00:21:36      1  Haziran     Yaz      Salı         22-02\n",
       "3  1495413883166760960  öyle güzel baktın ki, gözlerime\\nsevmek değil ... 2022-02-20 18:03:47      1    Şubat     Kış     Pazar         18-22\n",
       "4  1490420667614904334  sevmek biri için ölmek değil her şeye rağmen y... 2022-02-06 23:22:32      1    Şubat     Kış     Pazar         22-02"
      ]
     },
     "execution_count": 11,
     "metadata": {},
     "output_type": "execute_result"
    }
   ],
   "source": [
    "# Divide the day into 6 by 4 hour time interval.\n",
    "\n",
    "df[\"hour\"] = df[\"date\"].dt.hour\n",
    "df[\"4_hour_interval\"] = (df[\"hour\"] // 2) * 2\n",
    "\n",
    "interval = {0: \"0-2\",\n",
    "            2: \"2-4\",\n",
    "            4: \"4-6\",\n",
    "            6: \"6-8\",\n",
    "            8: \"8-10\",\n",
    "            10: \"10-12\",\n",
    "            12: \"12-14\",\n",
    "            14: \"14-16\",\n",
    "            16: \"16-18\",\n",
    "            18: \"18-20\",\n",
    "            20: \"20-22\",\n",
    "            22: \"22-24\"}\n",
    "\n",
    "df[\"4_hour_interval\"] = df[\"4_hour_interval\"].map(interval)\n",
    "df[\"time_interval\"] = df[\"4_hour_interval\"].replace({\"22-24\": \"22-02\",\n",
    "                                                     \"0-2\": \"22-02\",\n",
    "                                                     \"2-4\": \"02-06\",\n",
    "                                                     \"4-6\": \"02-06\",\n",
    "                                                     \"6-8\": \"06-10\",\n",
    "                                                     \"8-10\": \"06-10\",\n",
    "                                                     \"10-12\": \"10-14\",\n",
    "                                                     \"12-14\": \"10-14\",\n",
    "                                                     \"14-16\": \"14-18\",\n",
    "                                                     \"16-18\": \"14-18\",\n",
    "                                                     \"18-20\": \"18-22\",\n",
    "                                                     \"20-22\": \"18-22\"\n",
    "                                                     })\n",
    "df.drop([\"hour\", \"4_hour_interval\"], axis=1, inplace=True)\n",
    "df.head()"
   ]
  },
  {
   "cell_type": "code",
   "execution_count": 12,
   "metadata": {},
   "outputs": [
    {
     "data": {
      "text/plain": [
       "0        positive\n",
       "1        positive\n",
       "2        positive\n",
       "3        positive\n",
       "4        positive\n",
       "           ...   \n",
       "12955    negative\n",
       "12956    positive\n",
       "12957        nötr\n",
       "12958        nötr\n",
       "12959        nötr\n",
       "Name: label, Length: 12959, dtype: object"
      ]
     },
     "execution_count": 12,
     "metadata": {},
     "output_type": "execute_result"
    }
   ],
   "source": [
    "# Change variables \n",
    "df[\"label\"] = df[\"label\"].replace({-1: \"negative\",\n",
    "                                    0: \"nötr\",\n",
    "                                    1: \"positive\"})\n",
    "df[\"label\"]"
   ]
  },
  {
   "cell_type": "code",
   "execution_count": 13,
   "metadata": {},
   "outputs": [
    {
     "name": "stdout",
     "output_type": "stream",
     "text": [
      "       time_interval      Ratio\n",
      "22-02           1181  40.668044\n",
      "18-22            616  21.212121\n",
      "14-18            359  12.362259\n",
      "10-14            326  11.225895\n",
      "02-06            261   8.987603\n",
      "06-10            161   5.544077\n",
      "---------------------------------------------\n"
     ]
    },
    {
     "data": {
      "image/png": "[encoded data removed]",
      "text/plain": [
       "<Figure size 640x480 with 1 Axes>"
      ]
     },
     "metadata": {},
     "output_type": "display_data"
    },
    {
     "name": "stdout",
     "output_type": "stream",
     "text": [
      "           days      Ratio\n",
      "Salı        451  15.530303\n",
      "Pazartesi   435  14.979339\n",
      "Cuma        433  14.910468\n",
      "Pazar       417  14.359504\n",
      "Perşembe    408  14.049587\n",
      "Wednesday   388  13.360882\n",
      "Cumartesi   372  12.809917\n",
      "---------------------------------------------\n"
     ]
    },
    {
     "data": {
      "image/png": "[encoded data removed]",
      "text/plain": [
       "<Figure size 640x480 with 1 Axes>"
      ]
     },
     "metadata": {},
     "output_type": "display_data"
    },
    {
     "name": "stdout",
     "output_type": "stream",
     "text": [
      "          seasons      Ratio\n",
      "Kış           999  34.400826\n",
      "Sonbahar      705  24.276860\n",
      "Yaz           633  21.797521\n",
      "İlkbahar      567  19.524793\n",
      "---------------------------------------------\n"
     ]
    },
    {
     "data": {
      "image/png": "[encoded data removed]",
      "text/plain": [
       "<Figure size 640x480 with 1 Axes>"
      ]
     },
     "metadata": {},
     "output_type": "display_data"
    }
   ],
   "source": [
    "# Target variable analysis\n",
    "cols = [\"time_interval\", \"days\", \"seasons\"]\n",
    "\n",
    "def summary(dataframe, col_name, plot=False):\n",
    "    # negatif tweetler için hedef değişken analizi\n",
    "    dataframe = dataframe.loc[df[\"label\"] == \"negative\"]\n",
    "    print(pd.DataFrame({col_name: dataframe[col_name].value_counts(),\n",
    "                        \"Ratio\": 100 * dataframe[col_name].value_counts() / len(dataframe)}))\n",
    "    print(\"---------------------------------------------\")\n",
    "\n",
    "    if plot:\n",
    "        sns.countplot(x=dataframe[col_name], data=dataframe)\n",
    "        plt.show(block=True)\n",
    "\n",
    "for col in cols:\n",
    "    summary(df, col, plot=True)"
   ]
  },
  {
   "cell_type": "code",
   "execution_count": 14,
   "metadata": {},
   "outputs": [],
   "source": [
    "def data_preparation(dataframe, tf_idfVectorizer):\n",
    "    \"\"\"\n",
    "    Prepare data for model,\n",
    "        put \"label\" variable into Label Encoder.\n",
    "        put \"tweet\" variable into TF-IDF.\n",
    "    \n",
    "    :param dataframe: dataframe\n",
    "    :param tf_idfVectorizer: TF-IDF Model\n",
    "\n",
    "    \n",
    "    :return x: TF_IDF matrix\n",
    "    :return y: the dependent variable \n",
    "    \n",
    "    \"\"\"\n",
    "    dataframe[\"tweet\"] = dataframe[\"tweet\"].str.lower()\n",
    "\n",
    "    dataframe[\"label\"].replace(-1, value=\"negative\", inplace=True)\n",
    "    dataframe[\"label\"].replace(0, value=\"neutral\", inplace=True)\n",
    "    dataframe[\"label\"].replace(1, value=\"positive\", inplace=True)\n",
    "\n",
    "    dataframe[\"label\"] = LabelEncoder().fit_transform(dataframe[\"label\"])\n",
    "\n",
    "    dataframe.dropna(axis=0, inplace=True)\n",
    "    X = tf_idfVectorizer.fit_transform(dataframe[\"tweet\"])\n",
    "    y = dataframe[\"label\"]\n",
    "\n",
    "    return X,y\n"
   ]
  },
  {
   "cell_type": "code",
   "execution_count": 15,
   "metadata": {},
   "outputs": [],
   "source": [
    "def logistic_regression(X, y):\n",
    "    \"\"\"\n",
    "    Creating Logistic Regression model\n",
    "\n",
    "    :param X: TF-IDF matrix\n",
    "    :param y: the dependent variable\n",
    "\n",
    "\n",
    "    :return log_model: Model object\n",
    "    \"\"\"\n",
    "\n",
    "    log_model = LogisticRegression(max_iter=10000).fit(X, y)\n",
    "    cross_val_score(log_model,\n",
    "                    X,\n",
    "                    y,\n",
    "                    scoring=\"accuracy\",\n",
    "                    cv=10).mean()\n",
    "    return log_model"
   ]
  },
  {
   "cell_type": "code",
   "execution_count": 16,
   "metadata": {},
   "outputs": [],
   "source": [
    "def tweets_21(dataframe_new, tweets):\n",
    "    \"\"\"\n",
    "    lowercasing tweets in the test dataset.\n",
    "\n",
    "    :param dataframe_new: dataframe containing tweets\n",
    "    :param tweets: variable containing tweets in dataframe_new\n",
    "\n",
    "    :return dataframe_new: edited dataframe\n",
    "\n",
    "    \"\"\"\n",
    "\n",
    "    dataframe_new[tweets] = dataframe_new[tweets].apply(\n",
    "        lambda x: \" \".join(x.lower() for x in x.split()))\n",
    "    \n",
    "    return dataframe_new"
   ]
  },
  {
   "cell_type": "code",
   "execution_count": 17,
   "metadata": {},
   "outputs": [],
   "source": [
    "def predict_new_tweet(dataframe_new, log_model, tf_idfVectorizer):\n",
    "    \"\"\"\n",
    "    Predicting tweets that belong the year 2021 with the Logistic \n",
    "    Regression model created.\n",
    "\n",
    "    :param dataframe_new: edited dataframe for input to model\n",
    "    :log_model: Logistic Regression model object\n",
    "    :tf_idfVectorizer: TF_IDF Vectorizer object\n",
    "    \n",
    "    :return dataframe_new: dataframe that prediction results added\n",
    "    \"\"\"\n",
    "\n",
    "    tweet_tfidf = tf_idfVectorizer.transform(dataframe_new[\"tweet\"])\n",
    "    predictions = log_model.predict(tweet_tfidf)\n",
    "    dataframe_new[\"label\"] = predictions\n",
    "    return dataframe_new\n"
   ]
  },
  {
   "cell_type": "code",
   "execution_count": 18,
   "metadata": {},
   "outputs": [],
   "source": [
    "def main():\n",
    "\n",
    "    tf_idfVectorizer = TfidfVectorizer()\n",
    "    X, y = data_preparation(df, tf_idfVectorizer)\n",
    "    log_model = logistic_regression(X,y)\n",
    "    dataframe_new = pd.read_csv(\"tweets_21.csv\")\n",
    "    predicted_df = predict_new_tweet(dataframe_new, log_model, tf_idfVectorizer)\n",
    "    print(predicted_df.head(10))"
   ]
  },
  {
   "cell_type": "code",
   "execution_count": 19,
   "metadata": {},
   "outputs": [
    {
     "name": "stdout",
     "output_type": "stream",
     "text": [
      "The process has started.\n",
      "              tweet_id                                              tweet                 date  label\n",
      "0  1344798002490314752  Kardesim (12) sevdigi cocuga 00:00 da ilan-i a...  2021-01-01 03:10:03      1\n",
      "1  1344799527673470977  Bu yılbaşı da saat tam 00:00'da swni seviyorum...  2021-01-01 03:16:07      1\n",
      "2  1344799907719348226  tam 00.00da naptınız ben her yıl tam bu vakit ...  2021-01-01 03:17:37      1\n",
      "3  1344800782802165762  00:00'da havai fişek gösterisi yapıldı tam dib...  2021-01-01 03:21:06      1\n",
      "4  1344805589990453249  31 aralık saat 00.00 da yeni yılımızı kutlayan...  2021-01-01 03:40:12      1\n",
      "5  1344838906609606658  Saat 23:00 olmadan sızmışım.  Bütün senenin yo...  2021-01-01 05:52:35      1\n",
      "6  1344845204965232640  yalnızlıktan ve sıkıntıdan şimdide kitaplara s...  2021-01-01 06:17:37      1\n",
      "7  1344856870759129088  askerde 9da yat emri alıp uyuyup gece tam 00.0...  2021-01-01 07:03:58      1\n",
      "8  1344893883554164736  Dertlerimi yazıyorum buraya, herkes beğeniyor,...  2021-01-01 09:31:03      1\n",
      "9  1344898883265114112  minho tam 00.00'da bize mutlu yıllar demiş ve ...  2021-01-01 09:50:55      1\n"
     ]
    }
   ],
   "source": [
    "if __name__ == \"__main__\":\n",
    "    print(\"The process has started.\")\n",
    "    main()"
   ]
  }
 ],
 "metadata": {
  "kernelspec": {
   "display_name": "Python 3",
   "language": "python",
   "name": "python3"
  },
  "language_info": {
   "codemirror_mode": {
    "name": "ipython",
    "version": 3
   },
   "file_extension": ".py",
   "mimetype": "text/x-python",
   "name": "python",
   "nbconvert_exporter": "python",
   "pygments_lexer": "ipython3",
   "version": "3.10.11"
  }
 },
 "nbformat": 4,
 "nbformat_minor": 2
}
